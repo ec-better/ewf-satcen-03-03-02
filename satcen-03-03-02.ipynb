{
 "cells": [
  {
   "cell_type": "code",
   "execution_count": null,
   "metadata": {},
   "outputs": [],
   "source": [
    "import os\n",
    "import sys \n",
    "from pystac import Catalog, Collection, Item, MediaType, Asset, CatalogType\n",
    "import gdal\n",
    "import numpy as np\n",
    "import datetime\n",
    "from helpers import *\n",
    "import logging\n",
    "import osr, ogr\n",
    "\n",
    "from shapely.wkt import loads\n",
    "from shapely.geometry import box"
   ]
  },
  {
   "cell_type": "code",
   "execution_count": null,
   "metadata": {},
   "outputs": [],
   "source": [
    "logging.basicConfig(stream=sys.stderr, \n",
    "                    level=logging.DEBUG,\n",
    "                    format='%(asctime)s %(levelname)-8s %(message)s',\n",
    "                    datefmt='%Y-%m-%dT%H:%M:%S')"
   ]
  },
  {
   "cell_type": "code",
   "execution_count": null,
   "metadata": {},
   "outputs": [],
   "source": [
    "gdal.UseExceptions() "
   ]
  },
  {
   "cell_type": "code",
   "execution_count": null,
   "metadata": {},
   "outputs": [],
   "source": [
    "os.environ['PREFIX']='/opt/anaconda/envs/env_ewf_satcen_03_03_02'"
   ]
  },
  {
   "cell_type": "code",
   "execution_count": null,
   "metadata": {},
   "outputs": [],
   "source": [
    "os.environ['PROJ_LIB'] = os.path.join(os.environ['PREFIX'], 'share/proj')\n",
    "os.environ['GDAL_DATA'] = os.path.join(os.environ['PREFIX'], 'share/gdal')\n"
   ]
  },
  {
   "cell_type": "code",
   "execution_count": null,
   "metadata": {},
   "outputs": [],
   "source": [
    "service = dict([('title', 'Sentinel-2 burned area identification'),\n",
    "                ('abstract', 'This is a short description'),\n",
    "                ('id', 'ewf-satcen-03-03-02')])"
   ]
  },
  {
   "cell_type": "code",
   "execution_count": null,
   "metadata": {},
   "outputs": [],
   "source": [
    "pp_threshold = dict([('identifier', 'pp_threshold'),\n",
    "                     ('title', 'Post Processing threshold in pixels'),\n",
    "                     ('abstract', 'Number of pixels composing the isolated polygon to be removed (if 0 no post processing is applied)'),\n",
    "                     ('value', '3'),\n",
    "                     ('min_occurs', '1'),\n",
    "                     ('max_occurs', '1')])"
   ]
  },
  {
   "cell_type": "code",
   "execution_count": null,
   "metadata": {},
   "outputs": [],
   "source": [
    "ndvi_threshold = dict([('identifier', 'ndvi_threshold'),\n",
    "                       ('value', '0.19'),\n",
    "                       ('title', 'NDVI difference threshold'),\n",
    "                       ('abstract', 'NDVI difference threshold'),\n",
    "                       ('min_occurs', '1'),\n",
    "                       ('max_occurs', '1')])"
   ]
  },
  {
   "cell_type": "code",
   "execution_count": null,
   "metadata": {},
   "outputs": [],
   "source": [
    "ndwi_threshold = dict([('identifier', 'ndwi_threshold'),\n",
    "                       ('value', '0.18'),\n",
    "                       ('title', 'NDWI difference threshold'),\n",
    "                       ('abstract', 'NDWI difference threshold'),\n",
    "                       ('min_occurs', '1'),\n",
    "                       ('max_occurs', '1')])"
   ]
  },
  {
   "cell_type": "code",
   "execution_count": null,
   "metadata": {},
   "outputs": [],
   "source": [
    "wkt = dict([('identifier', 'aoi'),\n",
    "            ('value', 'POLYGON((149.74042460751588 -34.29772543048931,150.93246853304504 -34.323665099129535,150.90758708373184 -35.313155442237914,149.70124915286058 -35.28624837182783,149.74042460751588 -34.29772543048931))'),\n",
    "            ('title', 'Area of interest'),\n",
    "            ('abstract', 'Area of interest in WKT or bounding box'),\n",
    "            ('min_occurs', '0'),\n",
    "            ('max_occurs', '1')])"
   ]
  },
  {
   "cell_type": "code",
   "execution_count": null,
   "metadata": {},
   "outputs": [],
   "source": [
    "pre_event = dict([('identifier', 'pre_event'),\n",
    "                  ('title', 'Sentinel-2 Level-2A pre-event'),\n",
    "                  ('abstract', 'Sentinel-2 Level-2A pre-event acquisition'),\n",
    "                  ('value', 'https://catalog.terradue.com/sentinel2/search?uid=S2A_MSIL2A_20191101T000241_N0213_R030_T56HKG_20191101T020007'),\n",
    "                  ('min_occurs', '1'),\n",
    "                  ('max_occurs', '1'),\n",
    "                  ('stac:collection', 'pre-event'),\n",
    "                  ('stac:href', 'catalog.json')])"
   ]
  },
  {
   "cell_type": "code",
   "execution_count": null,
   "metadata": {},
   "outputs": [],
   "source": [
    "post_event = dict([('identifier', 'post_event'),\n",
    "                   ('title', 'Sentinel-2 Level-2A post-event'),\n",
    "                   ('abstract', 'Sentinel-2 Level-2A post-event acquisition'),\n",
    "                   #('value', 'https://catalog.terradue.com/sentinel2/search?uid=S2A_MSIL2A_20200320T000241_N0214_R030_T56HKG_20200320T020042'),\n",
    "                   ('value', 'https://catalog.terradue.com/sentinel2/search?uid=S2A_MSIL2A_20191231T000241_N0213_R030_T56HKG_20191231T015159'),\n",
    "                   ('min_occurs', '1'),\n",
    "                   ('max_occurs', '1'),\n",
    "                   ('stac:collection', 'post-event'),\n",
    "                   ('stac:href', 'catalog.json')])"
   ]
  },
  {
   "cell_type": "code",
   "execution_count": null,
   "metadata": {},
   "outputs": [],
   "source": [
    "data_path = '/workspace/data/s2/'"
   ]
  },
  {
   "cell_type": "code",
   "execution_count": null,
   "metadata": {},
   "outputs": [],
   "source": [
    "input_catalog = '/workspace/data/s2/catalog.json'"
   ]
  },
  {
   "cell_type": "code",
   "execution_count": null,
   "metadata": {},
   "outputs": [],
   "source": [
    "logging.info(input_catalog)\n",
    "\n",
    "cat = Catalog.from_file(input_catalog)\n",
    "\n",
    "if cat is None:\n",
    "    raise ValueError()\n",
    "\n",
    "logging.info(cat.describe())\n"
   ]
  },
  {
   "cell_type": "code",
   "execution_count": null,
   "metadata": {},
   "outputs": [],
   "source": [
    "collections = []\n",
    "dates = []\n",
    "for col in iter(cat.get_children()):\n",
    "\n",
    "    collections.append(col)\n",
    "\n",
    "    item = next(col.get_items())\n",
    "\n",
    "    print(item.assets['SCL'])\n",
    "    \n",
    "    if col.id == 'pre-event':\n",
    "        pre_date = item.datetime.strftime(\"%Y-%m-%dT%H:%M:%SZ\")\n",
    "        masterID = item.id\n",
    "    else:\n",
    "        post_date = item.datetime.strftime(\"%Y-%m-%dT%H:%M:%SZ\")\n",
    "        slaveID = item.id\n",
    "\n",
    "    #dates.append(item.datetime)\n",
    "    #extent=col.extent\n",
    "    #geometry = item.geometry\n",
    "    #bbox = item.bbox\n",
    "\n",
    "if len(collections) == 0:\n",
    "    raise ValueError()\n",
    "    "
   ]
  },
  {
   "cell_type": "code",
   "execution_count": null,
   "metadata": {},
   "outputs": [],
   "source": [
    "if wkt['value'] != \"\":\n",
    "    \n",
    "    bbox = loads(wkt['value']).bounds\n",
    "    logging.info('Burned Area will be cropped over {}'.format(wkt['value']))"
   ]
  },
  {
   "cell_type": "code",
   "execution_count": null,
   "metadata": {},
   "outputs": [],
   "source": [
    "for collection in collections:\n",
    "\n",
    "    item = next(collection.get_items())\n",
    "    \n",
    "    logging.info('Stacking bands for input {}'.format(collection.id))\n",
    "    \n",
    "    vrt_bands = []\n",
    "\n",
    "    \n",
    "    \n",
    "    for band in ['B04', 'B08', 'B8A', 'B11', 'B12', 'SCL']:\n",
    "        \n",
    "        item_band_ref = item.assets[band].get_absolute_href()\n",
    "        logging.info('Adding {} to vrt'.format(item_band_ref))\n",
    "        vrt_bands.append(item_band_ref)\n",
    "\n",
    "\n",
    "    vrt = '{}.vrt'.format(collection.id)\n",
    "    tif = '{}.tif'.format(collection.id)\n",
    "    \n",
    "    logging.info('Build vrt for {}'.format(collection.id))\n",
    "    \n",
    "    ds = gdal.BuildVRT(vrt,\n",
    "                       vrt_bands,\n",
    "                       srcNodata=0,\n",
    "                       xRes=10, \n",
    "                       yRes=10,\n",
    "                       separate=True)\n",
    "    ds.FlushCache()\n",
    "    \n",
    "    logging.info('Translate {}'.format(collection.id))\n",
    "\n",
    "    if bbox:\n",
    "        \n",
    "        x_min, y_min, x_max, y_max = bbox\n",
    "        \n",
    "        gdal.Translate(tif,\n",
    "                       vrt,\n",
    "                       projWin=[x_min, y_max, x_max, y_min],\n",
    "                       projWinSRS='EPSG:4326',\n",
    "                       outputType=gdal.GDT_UInt16)\n",
    "    else:\n",
    "        \n",
    "        gdal.Translate(tif,\n",
    "                       vrt,\n",
    "                       outputType=gdal.GDT_UInt16)\n",
    "    os.remove(vrt)\n"
   ]
  },
  {
   "cell_type": "code",
   "execution_count": null,
   "metadata": {},
   "outputs": [],
   "source": [
    "ds = gdal.Open('pre-event.tif')\n",
    "\n",
    "pre_b04 = ds.GetRasterBand(1).ReadAsArray()\n",
    "pre_b08 = ds.GetRasterBand(2).ReadAsArray()\n",
    "pre_b8a = ds.GetRasterBand(3).ReadAsArray()\n",
    "pre_b11 = ds.GetRasterBand(4).ReadAsArray()\n",
    "pre_b12 = ds.GetRasterBand(5).ReadAsArray()\n",
    "pre_scl = ds.GetRasterBand(6).ReadAsArray()\n",
    "\n",
    "ds = None\n",
    "\n",
    "os.remove('pre-event.tif')\n",
    "\n",
    "    "
   ]
  },
  {
   "cell_type": "code",
   "execution_count": null,
   "metadata": {},
   "outputs": [],
   "source": [
    "ds = gdal.Open('post-event.tif')\n",
    "\n",
    "post_b04 = ds.GetRasterBand(1).ReadAsArray()\n",
    "post_b08 = ds.GetRasterBand(2).ReadAsArray()\n",
    "post_b8a = ds.GetRasterBand(3).ReadAsArray()\n",
    "post_b11 = ds.GetRasterBand(4).ReadAsArray()\n",
    "post_b12 = ds.GetRasterBand(5).ReadAsArray()\n",
    "post_scl = ds.GetRasterBand(6).ReadAsArray()\n",
    "\n",
    "width = ds.RasterXSize\n",
    "height = ds.RasterYSize\n",
    "\n",
    "\n",
    "input_geotransform = ds.GetGeoTransform()\n",
    "input_georef = ds.GetProjectionRef()\n",
    "\n",
    "proj = osr.SpatialReference(wkt=ds.GetProjection())\n",
    "epsg = proj.GetAttrValue('AUTHORITY',1)\n",
    "\n",
    "\n",
    "ds = None\n",
    "\n",
    "os.remove('post-event.tif')\n"
   ]
  },
  {
   "cell_type": "code",
   "execution_count": null,
   "metadata": {},
   "outputs": [],
   "source": [
    "output_files = []"
   ]
  },
  {
   "cell_type": "markdown",
   "metadata": {},
   "source": [
    "#### RGB Pre and Post event COG (bands: B12,B11,B8A)"
   ]
  },
  {
   "cell_type": "code",
   "execution_count": null,
   "metadata": {},
   "outputs": [],
   "source": [
    "output_name = 'RGB_Pre_{}.tif'.format(pre_event['value'].split('=')[-1])\n",
    "\n",
    "logging.info('Creating pre-event RGB COG product {}'.format(output_name))\n",
    "\n",
    "write_RGB([pre_b12,pre_b11,pre_b8a], output_name, width, height, input_geotransform, input_georef)\n",
    "\n",
    "output_files.append(output_name)"
   ]
  },
  {
   "cell_type": "code",
   "execution_count": null,
   "metadata": {},
   "outputs": [],
   "source": [
    "output_name = 'RGB_Pst_{}.tif'.format(post_event['value'].split('=')[-1])\n",
    "\n",
    "logging.info('Creating post-event RGB COG product {}'.format(output_name))\n",
    "\n",
    "write_RGB([post_b12,post_b11,post_b8a], output_name, width, height, input_geotransform, input_georef)\n",
    "\n",
    "output_files.append(output_name)"
   ]
  },
  {
   "cell_type": "code",
   "execution_count": null,
   "metadata": {},
   "outputs": [],
   "source": [
    "pre_b12 = None\n",
    "post_b12 = None\n",
    "pre_b8a = None\n",
    "post_b8a = None"
   ]
  },
  {
   "cell_type": "markdown",
   "metadata": {},
   "source": [
    "### NDVI and NDWI Computation"
   ]
  },
  {
   "cell_type": "code",
   "execution_count": null,
   "metadata": {},
   "outputs": [],
   "source": [
    "ndvwi = lambda x,y: 0 if (x+y)==0  else float(x-y)/float(x+y)\n",
    "\n",
    "vfunc = np.vectorize(ndvwi, otypes=[np.float32])"
   ]
  },
  {
   "cell_type": "markdown",
   "metadata": {},
   "source": [
    " #### NDWI with NIR (8) and SWIR (11)"
   ]
  },
  {
   "cell_type": "code",
   "execution_count": null,
   "metadata": {},
   "outputs": [],
   "source": [
    "pre_ndwi2 = vfunc(pre_b08,pre_b11)\n",
    "post_ndwi2 = vfunc(post_b08,post_b11)\n",
    "\n",
    "pre_b11 = None\n",
    "post_b11 = None"
   ]
  },
  {
   "cell_type": "markdown",
   "metadata": {},
   "source": [
    "#### NDVI with NIR (8) and Red (4)"
   ]
  },
  {
   "cell_type": "code",
   "execution_count": null,
   "metadata": {},
   "outputs": [],
   "source": [
    "pre_ndvi = vfunc(pre_b08,pre_b04)\n",
    "post_ndvi = vfunc(post_b08,post_b04)\n",
    "\n",
    "pre_b04 = None\n",
    "post_b04 = None\n",
    "\n",
    "pre_b08 = None\n",
    "post_b08 = None"
   ]
  },
  {
   "cell_type": "markdown",
   "metadata": {},
   "source": [
    "#### Burned Area computation: \n",
    "#### If NDWI i2 - NDWI i1 > 0.18 and If NDVI i2 - NDVI i1 > 0.19 then burned pixels"
   ]
  },
  {
   "cell_type": "code",
   "execution_count": null,
   "metadata": {},
   "outputs": [],
   "source": [
    "ndwi_diff = pre_ndwi2  - post_ndwi2"
   ]
  },
  {
   "cell_type": "code",
   "execution_count": null,
   "metadata": {},
   "outputs": [],
   "source": [
    "ndvi_diff = pre_ndvi - post_ndvi"
   ]
  },
  {
   "cell_type": "code",
   "execution_count": null,
   "metadata": {},
   "outputs": [],
   "source": [
    "conditions = lambda x,y,z,m,n,p: 1 if ((x  > float(y)) & (z > float(m)) & ((n == 4) | (p == 4))) else 0\n",
    "                             \n",
    "vfunc_conditions = np.vectorize(conditions, otypes=[np.uint8])"
   ]
  },
  {
   "cell_type": "code",
   "execution_count": null,
   "metadata": {},
   "outputs": [],
   "source": [
    "burned_0 = vfunc_conditions(ndwi_diff, ndwi_threshold['value'], ndvi_diff, ndvi_threshold['value'], pre_scl, post_scl )"
   ]
  },
  {
   "cell_type": "code",
   "execution_count": null,
   "metadata": {},
   "outputs": [],
   "source": [
    "pre_ndwi2 = None\n",
    "post_ndwi2 = None\n",
    "\n",
    "pre_ndvi = None\n",
    "post_ndvi = None"
   ]
  },
  {
   "cell_type": "markdown",
   "metadata": {},
   "source": [
    "### Exclude according to scene classifications:"
   ]
  },
  {
   "cell_type": "markdown",
   "metadata": {},
   "source": [
    "where noData put burned=2 if burn then put burned=1 else burned=0"
   ]
  },
  {
   "cell_type": "code",
   "execution_count": null,
   "metadata": {},
   "outputs": [],
   "source": [
    "brnd = lambda x,y,z: 2 if (x==0 or y==0 or x==1 or y==1 or x==6 or y==6 or x==8 or y==8 or x==9 or y==9) else z\n",
    "\n",
    "vfunc = np.vectorize(brnd, otypes=[np.uint8])\n",
    "\n",
    "burned = vfunc(pre_scl , post_scl, burned_0 )"
   ]
  },
  {
   "cell_type": "code",
   "execution_count": null,
   "metadata": {},
   "outputs": [],
   "source": [
    "burned_0 = None"
   ]
  },
  {
   "cell_type": "markdown",
   "metadata": {},
   "source": [
    "##### Write the burned area temp tiff"
   ]
  },
  {
   "cell_type": "code",
   "execution_count": null,
   "metadata": {},
   "outputs": [],
   "source": [
    "#Requested file name : 'Burned_Area_S2_{MasterId}_{SlaveId}.tif\n",
    "\n",
    "temp_output_name_Burned_Area = 'temp_Burned_Area_S2_%s_%s.tif'%(masterID,slaveID)\n"
   ]
  },
  {
   "cell_type": "code",
   "execution_count": null,
   "metadata": {},
   "outputs": [],
   "source": [
    "logging.info('Creating Temporary Burned Area COG product {}'.format(temp_output_name_Burned_Area))\n",
    "write_tif(burned, temp_output_name_Burned_Area, width, height, input_geotransform, input_georef)"
   ]
  },
  {
   "cell_type": "markdown",
   "metadata": {},
   "source": [
    "##### Post-processing step: removing raster polygons smaller than the provided threshold size (in pixels) - if threshold=0 no post-proc will be applied"
   ]
  },
  {
   "cell_type": "code",
   "execution_count": null,
   "metadata": {},
   "outputs": [],
   "source": [
    "output_name_Burned_Area = '_'.join(temp_output_name_Burned_Area.split('_')[1:])\n",
    "\n",
    "if int(pp_threshold['value']) != 0:\n",
    "    logging.info('Creating Sieve-filtered Burned Area COG product {}'.format(output_name_Burned_Area))\n",
    "    sieve_filter(temp_output_name_Burned_Area,\n",
    "                 output_name_Burned_Area, \n",
    "                 int(pp_threshold['value']))\n",
    "    \n",
    "    #os.remove(temp_output_name_Burned_Area)\n",
    "\n",
    "else:\n",
    "    \n",
    "    shutil.move(temp_output_name_Burned_Area,\n",
    "                output_name_Burned_Area)\n",
    "\n",
    "logging.info('Burned Area COG product {} created'.format(output_name_Burned_Area))"
   ]
  },
  {
   "cell_type": "code",
   "execution_count": null,
   "metadata": {},
   "outputs": [],
   "source": [
    "output_files.append(output_name_Burned_Area)"
   ]
  },
  {
   "cell_type": "markdown",
   "metadata": {},
   "source": [
    "##### Creating the mask for the burned area to polygonize only Burned area polygons"
   ]
  },
  {
   "cell_type": "code",
   "execution_count": null,
   "metadata": {},
   "outputs": [],
   "source": [
    "ds = gdal.Open(output_name_Burned_Area)\n",
    "    \n",
    "ba = ds.GetRasterBand(1).ReadAsArray()\n",
    "ds=None\n",
    "\n",
    "brnd_mask = lambda x: 1 if (x==1) else 0\n",
    "\n",
    "vfunc = np.vectorize(brnd_mask, otypes=[np.uint8])\n",
    "\n",
    "mask_burned_area = vfunc(ba)\n",
    "\n",
    "write_tif(mask_burned_area, 'MASK_burned_area.tif', width, height, input_geotransform, input_georef)\n"
   ]
  },
  {
   "cell_type": "code",
   "execution_count": null,
   "metadata": {},
   "outputs": [],
   "source": [
    "poligonised_file = '{}_polygonized.json'.format(output_name_Burned_Area.split('.')[0])\n",
    "\n",
    "logging.info('Creating Burned Area polygonized json file {}'.format(poligonised_file))\n",
    "\n",
    "change_detection_gp = polygonize(output_name_Burned_Area, poligonised_file, 1, epsg, 'MASK_burned_area.tif')"
   ]
  },
  {
   "cell_type": "code",
   "execution_count": null,
   "metadata": {},
   "outputs": [],
   "source": [
    "output_files.append(poligonised_file)"
   ]
  },
  {
   "cell_type": "markdown",
   "metadata": {},
   "source": [
    "#### if we replace {'init':'epsg:{}'.format(epsg)} with new recommended 'epsg:{}', the axis order changes"
   ]
  },
  {
   "cell_type": "code",
   "execution_count": null,
   "metadata": {},
   "outputs": [],
   "source": [
    "change_detection_gp.head(10)"
   ]
  },
  {
   "cell_type": "markdown",
   "metadata": {},
   "source": [
    "### Get the result WKT"
   ]
  },
  {
   "cell_type": "code",
   "execution_count": null,
   "metadata": {},
   "outputs": [],
   "source": [
    "src = gdal.Open(output_name_Burned_Area)\n",
    "ulx, xres, xskew, uly, yskew, yres  = src.GetGeoTransform()\n",
    "\n",
    "max_x = ulx + (src.RasterXSize * xres)\n",
    "min_y = uly + (src.RasterYSize * yres)\n",
    "min_x = ulx \n",
    "max_y = uly\n",
    "\n",
    "min_x, min_y, max_x, max_y"
   ]
  },
  {
   "cell_type": "code",
   "execution_count": null,
   "metadata": {},
   "outputs": [],
   "source": [
    "source = osr.SpatialReference()\n",
    "source.ImportFromWkt(src.GetProjection())\n",
    "\n",
    "target = osr.SpatialReference()\n",
    "target.ImportFromEPSG(4326)\n",
    "\n",
    "transform = osr.CoordinateTransformation(source, target)\n",
    "\n",
    "result_wkt = box(transform.TransformPoint(min_x, min_y)[1],\n",
    "                 transform.TransformPoint(min_x, min_y)[0],\n",
    "                 transform.TransformPoint(max_x, max_y)[1],\n",
    "                 transform.TransformPoint(max_x, max_y)[0]).wkt"
   ]
  },
  {
   "cell_type": "code",
   "execution_count": null,
   "metadata": {},
   "outputs": [],
   "source": [
    "result_wkt"
   ]
  },
  {
   "cell_type": "markdown",
   "metadata": {},
   "source": [
    "### Create the properties file"
   ]
  },
  {
   "cell_type": "code",
   "execution_count": null,
   "metadata": {},
   "outputs": [],
   "source": [
    "from datetime import datetime"
   ]
  },
  {
   "cell_type": "code",
   "execution_count": null,
   "metadata": {},
   "outputs": [],
   "source": [
    "date_format = '%Y-%m-%dT%H:%m:%SZ'"
   ]
  },
  {
   "cell_type": "code",
   "execution_count": null,
   "metadata": {},
   "outputs": [],
   "source": [
    "output_files"
   ]
  },
  {
   "cell_type": "code",
   "execution_count": null,
   "metadata": {},
   "outputs": [],
   "source": [
    "for index , item in enumerate(output_files):\n",
    "\n",
    "    if 'RGB' in item:\n",
    "        prod = slaveID\n",
    "        if 'Pre' in item[4:7]:\n",
    "            prod = masterID\n",
    "        title = 'Sentinel-2 RGB {}-event {} (B11, B12, B8A)'.format(item[4:7],prod)\n",
    "            \n",
    "    if 'Burned_Area_S2' in item:\n",
    "        title = 'Sentinel-2 burned area identification for pair {}/{}'.format(masterID,slaveID)\n",
    "        if 'temp_' in item:\n",
    "            title = 'Sentinel-2 burned area identification for pair {}/{} (pre-filtering)'.format(masterID,slaveID)\n",
    "    \n",
    "    if 'polygonized' in item:\n",
    "        title = 'Geojson with vectorization of bitmask burned=1/not burned=0/unkown=2 for pair {}/{}'.format(masterID,slaveID)\n",
    "        \n",
    "    \n",
    "    with open('{}.properties'.format(item), 'w') as file:\n",
    "        \n",
    "        file.write('title={}\\n'.format(title))\n",
    "        \n",
    "        if 'Pre-event' in title:\n",
    "            date_iso = pre_date\n",
    "            \n",
    "            file.write('date={}/{}\\n'.format(date_iso,date_iso))\n",
    "        elif 'Pst-event' in title :\n",
    "            date_iso = post_date\n",
    "            \n",
    "            file.write('date={}/{}\\n'.format(date_iso,date_iso))\n",
    "        else:\n",
    "            start_date_iso = pre_date\n",
    "            end_date_iso = post_date\n",
    "            file.write('date={}/{}\\n'.format(start_date_iso,end_date_iso))\n",
    "            \n",
    "        file.write('geometry={}'.format(result_wkt))\n"
   ]
  },
  {
   "cell_type": "markdown",
   "metadata": {},
   "source": [
    "### License"
   ]
  },
  {
   "cell_type": "markdown",
   "metadata": {},
   "source": [
    "This work is licenced under a [Attribution-ShareAlike 4.0 International License (CC BY-SA 4.0)](http://creativecommons.org/licenses/by-sa/4.0/) \n",
    "\n",
    "YOU ARE FREE TO:\n",
    "\n",
    "* Share - copy and redistribute the material in any medium or format.\n",
    "* Adapt - remix, transform, and built upon the material for any purpose, even commercially.\n",
    "\n",
    "UNDER THE FOLLOWING TERMS:\n",
    "\n",
    "* Attribution - You must give appropriate credit, provide a link to the license, and indicate if changes were made. You may do so in any reasonable manner, but not in any way that suggests the licensor endorses you or your use.\n",
    "* ShareAlike - If you remix, transform, or build upon the material, you must distribute your contributions under the same license as the original."
   ]
  }
 ],
 "metadata": {
  "kernelspec": {
   "display_name": "env_ewf_satcen_03_03_02",
   "language": "python",
   "name": "env_ewf_satcen_03_03_02"
  },
  "language_info": {
   "codemirror_mode": {
    "name": "ipython",
    "version": 3
   },
   "file_extension": ".py",
   "mimetype": "text/x-python",
   "name": "python",
   "nbconvert_exporter": "python",
   "pygments_lexer": "ipython3",
   "version": "3.7.8"
  }
 },
 "nbformat": 4,
 "nbformat_minor": 4
}
