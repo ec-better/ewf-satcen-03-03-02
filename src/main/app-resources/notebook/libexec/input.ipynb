{
 "cells": [
  {
   "cell_type": "markdown",
   "metadata": {},
   "source": [
    "##  Sentinel-2 burned area identification"
   ]
  },
  {
   "cell_type": "markdown",
   "metadata": {},
   "source": [
    "### Service Definition\n",
    "\n",
    "The service definition is defined with a dictionnary with:\n",
    "\n",
    "- **id**, the processing parameter identifier\n",
    "- **title**, the title for the processing parameter\n",
    "- **abstract**, the description of the processing parameter\n",
    "\n",
    "Example:\n",
    "\n",
    "```python\n",
    "\n",
    "service = dict([('title', 'My nice app'),\n",
    "                ('abstract', 'Application to process ...'),\n",
    "                ('id', 'ewf-some-app')])\n",
    "```"
   ]
  },
  {
   "cell_type": "code",
   "execution_count": 17,
   "metadata": {
    "collapsed": true
   },
   "outputs": [],
   "source": [
    "service = dict([('title', 'Sentinel-2 burned area identification'),\n",
    "                ('abstract', 'This is a short description'),\n",
    "                ('id', 'ewf-satcen-03-03-02')])"
   ]
  },
  {
   "cell_type": "markdown",
   "metadata": {},
   "source": [
    "### Parameter Definition "
   ]
  },
  {
   "cell_type": "markdown",
   "metadata": {},
   "source": [
    "Processing parameters are defined with a dictionnary with:\n",
    "\n",
    "- **id**, the processing parameter identifier\n",
    "- **value**, the default value for the processing parameter\n",
    "- **title**, the title for the processing parameter\n",
    "- **abstract**, the description of the processing parameter\n",
    "\n",
    "Example:\n",
    "\n",
    "```python\n",
    "\n",
    "ts = dict([('id', 'ts'),\n",
    "           ('value', '1000'),\n",
    "           ('title', 'Training set size'),\n",
    "           ('abstract', 'Size of the training set (in pixels)')])\n",
    "```"
   ]
  },
  {
   "cell_type": "markdown",
   "metadata": {},
   "source": [
    "### Runtime parameter definition"
   ]
  },
  {
   "cell_type": "markdown",
   "metadata": {},
   "source": [
    "**Input identifier**\n",
    "\n",
    "The input identifier is the catalogue entry identifier value.\n",
    "\n",
    "It can be easily obtained in a shell with, for example:\n",
    "\n",
    "```bash\n",
    "opensearch-client 'https://catalog.terradue.com/sentinel2/search?uid=S2A_MSIL1C_20170909T060631_N0205_R134_T42SVG_20170909T061506' identifier\n",
    "$ S2A_MSIL1C_20170909T060631_N0205_R134_T42SVG_20170909T061506\n",
    "```"
   ]
  },
  {
   "cell_type": "code",
   "execution_count": 12,
   "metadata": {
    "collapsed": true
   },
   "outputs": [],
   "source": [
    "input_identifier = 'S2A_MSIL1C_20170909T060631_N0205_R134_T42SVG_20170909T061506'"
   ]
  },
  {
   "cell_type": "markdown",
   "metadata": {},
   "source": [
    "**Input reference**\n",
    "\n",
    "The input identifier is the catalogue entry URL (a.k.a. self value)."
   ]
  },
  {
   "cell_type": "code",
   "execution_count": 7,
   "metadata": {
    "collapsed": false
   },
   "outputs": [],
   "source": [
    "input_reference = 'https://catalog.terradue.com/sentinel2/search?uid=S2A_MSIL1C_20170909T060631_N0205_R134_T42SVG_20170909T061506'"
   ]
  },
  {
   "cell_type": "markdown",
   "metadata": {},
   "source": [
    "**Data path**\n",
    "\n",
    "This path defines where the data is staged-in. "
   ]
  },
  {
   "cell_type": "code",
   "execution_count": 5,
   "metadata": {
    "collapsed": true
   },
   "outputs": [],
   "source": [
    "data_path = '/workspace/data'"
   ]
  },
  {
   "cell_type": "markdown",
   "metadata": {},
   "source": [
    "### Workflow"
   ]
  },
  {
   "cell_type": "markdown",
   "metadata": {},
   "source": [
    "#### Import the packages"
   ]
  },
  {
   "cell_type": "code",
   "execution_count": 13,
   "metadata": {},
   "outputs": [],
   "source": [
    "import os\n",
    "import sys\n",
    "import cioppy\n",
    "import geopandas as gp"
   ]
  },
  {
   "cell_type": "code",
   "execution_count": 14,
   "metadata": {},
   "outputs": [],
   "source": [
    "ciop = cioppy.Cioppy()"
   ]
  },
  {
   "cell_type": "code",
   "execution_count": 15,
   "metadata": {},
   "outputs": [],
   "source": [
    "input_metadata = gp.GeoDataFrame(ciop.search(end_point=input_reference, \n",
    "                                params=[],\n",
    "                                output_fields='identifier,self,wkt,startdate,enddate,enclosure', \n",
    "                                model='EOP'))"
   ]
  },
  {
   "cell_type": "code",
   "execution_count": 16,
   "metadata": {},
   "outputs": [
    {
     "data": {
      "text/html": [
       "<div>\n",
       "<style scoped>\n",
       "    .dataframe tbody tr th:only-of-type {\n",
       "        vertical-align: middle;\n",
       "    }\n",
       "\n",
       "    .dataframe tbody tr th {\n",
       "        vertical-align: top;\n",
       "    }\n",
       "\n",
       "    .dataframe thead th {\n",
       "        text-align: right;\n",
       "    }\n",
       "</style>\n",
       "<table border=\"1\" class=\"dataframe\">\n",
       "  <thead>\n",
       "    <tr style=\"text-align: right;\">\n",
       "      <th></th>\n",
       "      <th>enclosure</th>\n",
       "      <th>enddate</th>\n",
       "      <th>identifier</th>\n",
       "      <th>self</th>\n",
       "      <th>startdate</th>\n",
       "      <th>wkt</th>\n",
       "    </tr>\n",
       "  </thead>\n",
       "  <tbody>\n",
       "    <tr>\n",
       "      <th>0</th>\n",
       "      <td>http://scihub.terradue.com/apihub/Products('21...</td>\n",
       "      <td>2017-09-09T06:06:31.0260000Z</td>\n",
       "      <td>S2A_MSIL1C_20170909T060631_N0205_R134_T42SVG_2...</td>\n",
       "      <td>https://catalog.terradue.com/sentinel2/search?...</td>\n",
       "      <td>2017-09-09T06:06:31.0260000Z</td>\n",
       "      <td>POLYGON((67.8614709212009 37.9420809165272,69....</td>\n",
       "    </tr>\n",
       "  </tbody>\n",
       "</table>\n",
       "</div>"
      ],
      "text/plain": [
       "                                           enclosure  \\\n",
       "0  http://scihub.terradue.com/apihub/Products('21...   \n",
       "\n",
       "                        enddate  \\\n",
       "0  2017-09-09T06:06:31.0260000Z   \n",
       "\n",
       "                                          identifier  \\\n",
       "0  S2A_MSIL1C_20170909T060631_N0205_R134_T42SVG_2...   \n",
       "\n",
       "                                                self  \\\n",
       "0  https://catalog.terradue.com/sentinel2/search?...   \n",
       "\n",
       "                      startdate  \\\n",
       "0  2017-09-09T06:06:31.0260000Z   \n",
       "\n",
       "                                                 wkt  \n",
       "0  POLYGON((67.8614709212009 37.9420809165272,69....  "
      ]
     },
     "execution_count": 16,
     "metadata": {},
     "output_type": "execute_result"
    }
   ],
   "source": [
    "input_metadata"
   ]
  },
  {
   "cell_type": "markdown",
   "metadata": {},
   "source": [
    "Other code blocks"
   ]
  },
  {
   "cell_type": "code",
   "execution_count": null,
   "metadata": {},
   "outputs": [],
   "source": []
  },
  {
   "cell_type": "markdown",
   "metadata": {},
   "source": [
    "### License"
   ]
  },
  {
   "cell_type": "markdown",
   "metadata": {},
   "source": [
    "This work is licenced under a [Attribution-ShareAlike 4.0 International License (CC BY-SA 4.0)](http://creativecommons.org/licenses/by-sa/4.0/) \n",
    "\n",
    "YOU ARE FREE TO:\n",
    "\n",
    "* Share - copy and redistribute the material in any medium or format.\n",
    "* Adapt - remix, transform, and built upon the material for any purpose, even commercially.\n",
    "\n",
    "UNDER THE FOLLOWING TERMS:\n",
    "\n",
    "* Attribution - You must give appropriate credit, provide a link to the license, and indicate if changes were made. You may do so in any reasonable manner, but not in any way that suggests the licensor endorses you or your use.\n",
    "* ShareAlike - If you remix, transform, or build upon the material, you must distribute your contributions under the same license as the original."
   ]
  },
  {
   "cell_type": "code",
   "execution_count": null,
   "metadata": {
    "collapsed": true
   },
   "outputs": [],
   "source": []
  }
 ],
 "metadata": {
  "kernelspec": {
   "display_name": "Python 2",
   "language": "python",
   "name": "python2"
  },
  "language_info": {
   "codemirror_mode": {
    "name": "ipython",
    "version": 2
   },
   "file_extension": ".py",
   "mimetype": "text/x-python",
   "name": "python",
   "nbconvert_exporter": "python",
   "pygments_lexer": "ipython2",
   "version": "2.7.11"
  }
 },
 "nbformat": 4,
 "nbformat_minor": 2
}
