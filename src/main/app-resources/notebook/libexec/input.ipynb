{
 "cells": [
  {
   "cell_type": "markdown",
   "metadata": {},
   "source": [
    "##  Sentinel-2 burned area identification"
   ]
  },
  {
   "cell_type": "markdown",
   "metadata": {},
   "source": [
    "This notebook prepares the data transformation application: The outcome is a data transformation application that takes one input (or a set of inputs organized in an atomic unit) and generates the output.\n",
    "\n",
    "The application implements:\n",
    "\n",
    "* Calculation of NDVI in the two scenes (using band 8 and 4), (B8-B4)/(B8+B4)\n",
    "* Calculation of NDWI, in the two scenes (using band 8 and 11), (B8-B11)/(B8+B11)\n",
    "* If NDWI i2 - NDWI i1 > 0.18 and If NDVI i2 - NDVI i1 > 0.19 then burned pixels\n",
    "\n",
    "The outputs generated include:\n",
    "\n",
    "* COG RGB composite with bands 12, 11, 8A pre\n",
    "* COG RGB composite with bands 12, 11, 8A post \n",
    "* COG scene classification pre  \n",
    "* COG scene classification post \n",
    "* COG 8 bits with bitmask burned/not burned\n",
    "* Geojson with vectorization of bitmask burned/not burned"
   ]
  },
  {
   "cell_type": "code",
   "execution_count": 1,
   "metadata": {
    "collapsed": true
   },
   "outputs": [],
   "source": [
    "service = dict([('title', 'Sentinel-2 burned area identification'),\n",
    "                ('abstract', 'This is a short description'),\n",
    "                ('id', 'ewf-satcen-03-03-02')])"
   ]
  },
  {
   "cell_type": "markdown",
   "metadata": {},
   "source": [
    "### Parameter Definition "
   ]
  },
  {
   "cell_type": "markdown",
   "metadata": {},
   "source": [
    "### Runtime parameter definition"
   ]
  },
  {
   "cell_type": "markdown",
   "metadata": {},
   "source": [
    "**Input reference**\n"
   ]
  },
  {
   "cell_type": "code",
   "execution_count": 2,
   "metadata": {
    "collapsed": false
   },
   "outputs": [],
   "source": [
    "input_references = ['https://catalog.terradue.com/sentinel2/search?uid=S2A_MSIL2A_20191231T000241_N0213_R030_T56HKG_20191231T015159',\n",
    "                   'https://catalog.terradue.com/sentinel2/search?uid=S2A_MSIL2A_20191201T000241_N0213_R030_T56HKG_20191201T020044']"
   ]
  },
  {
   "cell_type": "code",
   "execution_count": 3,
   "metadata": {},
   "outputs": [],
   "source": [
    "ndvi_threshold = dict([('identifier', 'ndvi_threshold'),\n",
    "                       ('value', '0.19'),\n",
    "                       ('title', 'NDVI difference threshold'),\n",
    "                       ('abstract', 'NDVI difference threshold'),\n",
    "                       ('maxOccurs', '1')]) "
   ]
  },
  {
   "cell_type": "code",
   "execution_count": 4,
   "metadata": {},
   "outputs": [],
   "source": [
    " ndwi_threshold = dict([('identifier', 'ndwi_threshold'),\n",
    "                       ('value', '0.18'),\n",
    "                       ('title', 'NDWI difference threshold'),\n",
    "                       ('abstract', 'NDWI difference threshold'),\n",
    "                       ('maxOccurs', '1')])"
   ]
  },
  {
   "cell_type": "code",
   "execution_count": 5,
   "metadata": {},
   "outputs": [],
   "source": [
    "wkt = dict([('id', 'aoi'),\n",
    "            ('value', 'POLYGON ((150.4704663611788 -34.65618387777952, 150.4704663611788 -34.95618387777952, 150.1704663611788 -34.95618387777952, 150.1704663611788 -34.65618387777952, 150.4704663611788 -34.65618387777952))'),\n",
    "            ('title', 'Area of interest'),\n",
    "            ('abstract', 'Area of interest in WKT or bounding box')])"
   ]
  },
  {
   "cell_type": "markdown",
   "metadata": {},
   "source": [
    "**Data path**\n",
    "\n",
    "This path defines where the data is staged-in. "
   ]
  },
  {
   "cell_type": "code",
   "execution_count": 6,
   "metadata": {
    "collapsed": true
   },
   "outputs": [],
   "source": [
    "data_path = '/workspace/data'"
   ]
  },
  {
   "cell_type": "markdown",
   "metadata": {},
   "source": [
    "### Workflow"
   ]
  },
  {
   "cell_type": "markdown",
   "metadata": {},
   "source": [
    "#### Import the packages"
   ]
  },
  {
   "cell_type": "code",
   "execution_count": 7,
   "metadata": {},
   "outputs": [],
   "source": [
    "import os\n",
    "import sys\n",
    "import cioppy\n",
    "import snappy\n",
    "from snappy import GPF\n",
    "ciop = cioppy.Cioppy()\n",
    "from snappy import jpy\n",
    "from snappy import ProductIO\n",
    "\n",
    "import gdal\n",
    "import geopandas as gp\n",
    "import numpy as np\n",
    "import datetime\n",
    "sys.path.append(os.getcwd())\n",
    "from helpers import *\n",
    "\n",
    "\n",
    "gdal.UseExceptions() \n",
    "\n"
   ]
  },
  {
   "cell_type": "code",
   "execution_count": 8,
   "metadata": {},
   "outputs": [],
   "source": [
    "products = get_metadata(input_references, data_path)"
   ]
  },
  {
   "cell_type": "code",
   "execution_count": 9,
   "metadata": {},
   "outputs": [],
   "source": [
    "group_analysis(products)"
   ]
  },
  {
   "cell_type": "code",
   "execution_count": 10,
   "metadata": {},
   "outputs": [
    {
     "data": {
      "text/html": [
       "<div>\n",
       "<style scoped>\n",
       "    .dataframe tbody tr th:only-of-type {\n",
       "        vertical-align: middle;\n",
       "    }\n",
       "\n",
       "    .dataframe tbody tr th {\n",
       "        vertical-align: top;\n",
       "    }\n",
       "\n",
       "    .dataframe thead th {\n",
       "        text-align: right;\n",
       "    }\n",
       "</style>\n",
       "<table border=\"1\" class=\"dataframe\">\n",
       "  <thead>\n",
       "    <tr style=\"text-align: right;\">\n",
       "      <th></th>\n",
       "      <th>identifier</th>\n",
       "      <th>self</th>\n",
       "      <th>startdate</th>\n",
       "      <th>enddate</th>\n",
       "      <th>enclosure</th>\n",
       "      <th>orbitDirection</th>\n",
       "      <th>track</th>\n",
       "      <th>orbitNumber</th>\n",
       "      <th>wkt</th>\n",
       "      <th>local_path</th>\n",
       "      <th>ordinal_type</th>\n",
       "    </tr>\n",
       "  </thead>\n",
       "  <tbody>\n",
       "    <tr>\n",
       "      <th>0</th>\n",
       "      <td>S2A_MSIL2A_20191231T000241_N0213_R030_T56HKG_2...</td>\n",
       "      <td>https://catalog.terradue.com/sentinel2/search?...</td>\n",
       "      <td>2019-12-31T00:02:41.0250000Z</td>\n",
       "      <td>2019-12-31T00:02:41.0250000Z</td>\n",
       "      <td>https://store.terradue.com/download/sentinel2/...</td>\n",
       "      <td>DESCENDING</td>\n",
       "      <td>30</td>\n",
       "      <td>23622</td>\n",
       "      <td>POLYGON((150.907587083732 -35.3131554422379,15...</td>\n",
       "      <td>/workspace/data/S2A_MSIL2A_20191231T000241_N02...</td>\n",
       "      <td>Pst</td>\n",
       "    </tr>\n",
       "    <tr>\n",
       "      <th>1</th>\n",
       "      <td>S2A_MSIL2A_20191201T000241_N0213_R030_T56HKG_2...</td>\n",
       "      <td>https://catalog.terradue.com/sentinel2/search?...</td>\n",
       "      <td>2019-12-01T00:02:41.0240000Z</td>\n",
       "      <td>2019-12-01T00:02:41.0240000Z</td>\n",
       "      <td>https://store.terradue.com/download/sentinel2/...</td>\n",
       "      <td>DESCENDING</td>\n",
       "      <td>30</td>\n",
       "      <td>23193</td>\n",
       "      <td>POLYGON((150.907587083732 -35.3131554422379,15...</td>\n",
       "      <td>/workspace/data/S2A_MSIL2A_20191201T000241_N02...</td>\n",
       "      <td>Pre</td>\n",
       "    </tr>\n",
       "  </tbody>\n",
       "</table>\n",
       "</div>"
      ],
      "text/plain": [
       "                                          identifier  \\\n",
       "0  S2A_MSIL2A_20191231T000241_N0213_R030_T56HKG_2...   \n",
       "1  S2A_MSIL2A_20191201T000241_N0213_R030_T56HKG_2...   \n",
       "\n",
       "                                                self  \\\n",
       "0  https://catalog.terradue.com/sentinel2/search?...   \n",
       "1  https://catalog.terradue.com/sentinel2/search?...   \n",
       "\n",
       "                      startdate                       enddate  \\\n",
       "0  2019-12-31T00:02:41.0250000Z  2019-12-31T00:02:41.0250000Z   \n",
       "1  2019-12-01T00:02:41.0240000Z  2019-12-01T00:02:41.0240000Z   \n",
       "\n",
       "                                           enclosure orbitDirection track  \\\n",
       "0  https://store.terradue.com/download/sentinel2/...     DESCENDING    30   \n",
       "1  https://store.terradue.com/download/sentinel2/...     DESCENDING    30   \n",
       "\n",
       "  orbitNumber                                                wkt  \\\n",
       "0       23622  POLYGON((150.907587083732 -35.3131554422379,15...   \n",
       "1       23193  POLYGON((150.907587083732 -35.3131554422379,15...   \n",
       "\n",
       "                                          local_path ordinal_type  \n",
       "0  /workspace/data/S2A_MSIL2A_20191231T000241_N02...          Pst  \n",
       "1  /workspace/data/S2A_MSIL2A_20191201T000241_N02...          Pre  "
      ]
     },
     "execution_count": 10,
     "metadata": {},
     "output_type": "execute_result"
    }
   ],
   "source": [
    "products"
   ]
  },
  {
   "cell_type": "code",
   "execution_count": 11,
   "metadata": {},
   "outputs": [],
   "source": [
    "req_bands = ['B4','B8','B8A', 'B11','B12', 'quality_scene_classification' ]"
   ]
  },
  {
   "cell_type": "code",
   "execution_count": 12,
   "metadata": {},
   "outputs": [],
   "source": [
    "#if more than one post or pre products==> use slice assembly ==>use new mosaics as input to the next steps"
   ]
  },
  {
   "cell_type": "code",
   "execution_count": 13,
   "metadata": {},
   "outputs": [
    {
     "name": "stdout",
     "output_type": "stream",
     "text": [
      "Pst_S2A_MSIL2A_20191231T000241_N0213_R030_T56HKG_20191231T015159.tif\n",
      "Pre_S2A_MSIL2A_20191201T000241_N0213_R030_T56HKG_20191201T020044.tif\n"
     ]
    }
   ],
   "source": [
    "\n",
    "for index, item in enumerate(['Pst','Pre']):\n",
    "    if(products[products['ordinal_type'] == item].identifier.count()>1):\n",
    "        product = mosaic_inputs(products[products['ordinal_type'] == item].reset_index(drop=True))\n",
    "    else:\n",
    "        local_pathx=products[products['ordinal_type'] == item].iloc[0]['local_path']\n",
    "        s2prd = \"%s/MTD_MSIL2A.xml\" %local_pathx \n",
    "        product = snappy.ProductIO.readProduct(s2prd)\n",
    "    \n",
    "    output_name = '%s_%s.tif'%(item,product.getName())\n",
    "    print(output_name)\n",
    "    product = resample2ref_band(product,'B4')\n",
    "    product = subset_to_aoi_reduce_bands(product,wkt['value'],req_bands)\n",
    "    ProductIO.writeProduct(product, 'S2_%s_tmp.tif'%item, 'GeoTIFF-BigTIFF')\n",
    "    \n",
    "    snap_rgb(product,['B12','B11','B8A'],'RGB_%s'%output_name)\n",
    "    snap_mask(product,'MASK_%s'%output_name)"
   ]
  },
  {
   "cell_type": "code",
   "execution_count": 14,
   "metadata": {},
   "outputs": [
    {
     "data": {
      "text/plain": [
       "['B4', 'B8', 'B8A', 'B11', 'B12', 'quality_scene_classification']"
      ]
     },
     "execution_count": 14,
     "metadata": {},
     "output_type": "execute_result"
    }
   ],
   "source": [
    "list(product.getBandNames())"
   ]
  },
  {
   "cell_type": "markdown",
   "metadata": {},
   "source": [
    "### NDVI & NDWI computation "
   ]
  },
  {
   "cell_type": "code",
   "execution_count": 15,
   "metadata": {},
   "outputs": [],
   "source": [
    "ds = gdal.Open('S2_Pre_tmp.tif')\n",
    "    \n",
    "pre_b04 = ds.GetRasterBand(1).ReadAsArray()\n",
    "pre_b08 = ds.GetRasterBand(2).ReadAsArray()\n",
    "pre_b11 = ds.GetRasterBand(4).ReadAsArray()\n",
    "pre_scl = ds.GetRasterBand(6).ReadAsArray()\n",
    "\n",
    "ds = None\n",
    "\n",
    "#os.remove('pre_event.tif')"
   ]
  },
  {
   "cell_type": "code",
   "execution_count": 16,
   "metadata": {},
   "outputs": [
    {
     "name": "stdout",
     "output_type": "stream",
     "text": [
      "32756\n"
     ]
    }
   ],
   "source": [
    "ds = gdal.Open('S2_Pst_tmp.tif')\n",
    "    \n",
    "post_b04 = ds.GetRasterBand(1).ReadAsArray()\n",
    "post_b08 = ds.GetRasterBand(2).ReadAsArray()\n",
    "post_b11 = ds.GetRasterBand(4).ReadAsArray()\n",
    "post_scl = ds.GetRasterBand(6).ReadAsArray()\n",
    "\n",
    "width = ds.RasterXSize\n",
    "height = ds.RasterYSize\n",
    "\n",
    "input_geotransform = ds.GetGeoTransform()\n",
    "input_georef = ds.GetProjectionRef()\n",
    "#print(input_georef)\n",
    "proj = osr.SpatialReference(wkt=ds.GetProjection())\n",
    "espg = proj.GetAttrValue('AUTHORITY',1)\n",
    "print(espg) \n",
    "ds = None\n",
    "\n",
    "#os.remove('post_event.tif')"
   ]
  },
  {
   "cell_type": "code",
   "execution_count": 17,
   "metadata": {},
   "outputs": [],
   "source": [
    "gain = 10000"
   ]
  },
  {
   "cell_type": "markdown",
   "metadata": {},
   "source": [
    " ### NDWI with NIR (8) and SWIR (11)"
   ]
  },
  {
   "cell_type": "code",
   "execution_count": 18,
   "metadata": {},
   "outputs": [
    {
     "name": "stderr",
     "output_type": "stream",
     "text": [
      "/opt/anaconda/envs/env_ewf_satcen_03_03_02/lib/python3.6/site-packages/ipykernel_launcher.py:1: RuntimeWarning: invalid value encountered in true_divide\n",
      "  \"\"\"Entry point for launching an IPython kernel.\n"
     ]
    }
   ],
   "source": [
    "pre_ndwi2 = (pre_b08 / gain - pre_b11 / gain) / (pre_b08/ gain / gain + pre_b11 / gain)\n",
    "post_ndwi2 = (post_b08 / gain - post_b11 / gain) / (post_b08/ gain / gain + post_b11 / gain)\n",
    "\n",
    "pre_b11 = None\n",
    "post_b11 = None"
   ]
  },
  {
   "cell_type": "markdown",
   "metadata": {},
   "source": [
    "### NDVI with NIR (8) and Red (4)"
   ]
  },
  {
   "cell_type": "code",
   "execution_count": 19,
   "metadata": {},
   "outputs": [
    {
     "name": "stderr",
     "output_type": "stream",
     "text": [
      "/opt/anaconda/envs/env_ewf_satcen_03_03_02/lib/python3.6/site-packages/ipykernel_launcher.py:1: RuntimeWarning: invalid value encountered in true_divide\n",
      "  \"\"\"Entry point for launching an IPython kernel.\n"
     ]
    }
   ],
   "source": [
    "pre_ndvi = (pre_b08 / gain - pre_b04 / gain) / (pre_b08 / gain / gain + pre_b04 / gain)\n",
    "post_ndvi = (post_b08 / gain - post_b04 / gain) / (post_b08 / gain / gain + post_b04 / gain)"
   ]
  },
  {
   "cell_type": "code",
   "execution_count": 20,
   "metadata": {},
   "outputs": [],
   "source": [
    "pre_b04 = None\n",
    "post_b04 = None\n",
    "\n",
    "pre_b08 = None\n",
    "post_b08 = None"
   ]
  },
  {
   "cell_type": "raw",
   "metadata": {},
   "source": [
    "If NDWI i2 - NDWI i1 > 0.18 and If NDVI i2 - NDVI i1 > 0.19 then burned pixels"
   ]
  },
  {
   "cell_type": "code",
   "execution_count": 21,
   "metadata": {},
   "outputs": [
    {
     "name": "stderr",
     "output_type": "stream",
     "text": [
      "/opt/anaconda/envs/env_ewf_satcen_03_03_02/lib/python3.6/site-packages/ipykernel_launcher.py:1: RuntimeWarning: invalid value encountered in greater\n",
      "  \"\"\"Entry point for launching an IPython kernel.\n"
     ]
    }
   ],
   "source": [
    "conditions = (((post_ndwi2 - pre_ndwi2)  > float(ndwi_threshold['value'])) & ((post_ndvi - pre_ndvi) > float(ndvi_threshold['value'])) & (pre_scl == 4) | (post_scl == 4)) "
   ]
  },
  {
   "cell_type": "code",
   "execution_count": 22,
   "metadata": {},
   "outputs": [],
   "source": [
    "burned = np.zeros((height, width), dtype=np.uint8)"
   ]
  },
  {
   "cell_type": "code",
   "execution_count": 23,
   "metadata": {},
   "outputs": [],
   "source": [
    "burned[conditions] = 1"
   ]
  },
  {
   "cell_type": "code",
   "execution_count": 24,
   "metadata": {},
   "outputs": [],
   "source": [
    "pre_ndwi2 = None\n",
    "post_ndwi2 = None\n",
    "\n",
    "pre_ndvi = None\n",
    "post_ndvi = None"
   ]
  },
  {
   "cell_type": "markdown",
   "metadata": {},
   "source": [
    "### Exclude according to scene classifications:"
   ]
  },
  {
   "cell_type": "markdown",
   "metadata": {},
   "source": [
    "where noData put burned=2 if burn then put burned=1 else burned=0"
   ]
  },
  {
   "cell_type": "code",
   "execution_count": 25,
   "metadata": {},
   "outputs": [],
   "source": [
    "burned[np.where((pre_scl == 0) | (post_scl == 0) | (pre_scl == 1) | (post_scl == 1) | (pre_scl == 5) | (post_scl == 5) | (pre_scl == 6) | (post_scl == 6) | (pre_scl == 7) | (post_scl == 7) | (pre_scl == 8) | (post_scl == 8) | (pre_scl == 9) | (post_scl == 9))] = 2"
   ]
  },
  {
   "cell_type": "markdown",
   "metadata": {},
   "source": [
    "Write"
   ]
  },
  {
   "cell_type": "code",
   "execution_count": 26,
   "metadata": {},
   "outputs": [],
   "source": [
    "output_name = 'S2_BURNED_AREA.tif'"
   ]
  },
  {
   "cell_type": "code",
   "execution_count": 27,
   "metadata": {},
   "outputs": [],
   "source": [
    "write_tif(burned, output_name, width, height, input_geotransform, input_georef)"
   ]
  },
  {
   "cell_type": "code",
   "execution_count": 28,
   "metadata": {},
   "outputs": [
    {
     "name": "stderr",
     "output_type": "stream",
     "text": [
      "/opt/anaconda/envs/env_ewf_satcen_03_03_02/lib/python3.6/site-packages/pyproj/crs/crs.py:53: FutureWarning: '+init=<authority>:<code>' syntax is deprecated. '<authority>:<code>' is the preferred initialization method. When making the change, be mindful of axis order changes: https://pyproj4.github.io/pyproj/stable/gotchas.html#axis-order-changes-in-proj-6\n",
      "  return _prepare_from_string(\" \".join(pjargs))\n"
     ]
    }
   ],
   "source": [
    "change_detection_gp = polygonize('S2_BURNED_AREA.tif', 1,espg )"
   ]
  },
  {
   "cell_type": "markdown",
   "metadata": {},
   "source": [
    "#### if we replace {'init':'epsg:{}'.format(epsg)} with new recommended 'epsg:{}', the axis order changes"
   ]
  },
  {
   "cell_type": "code",
   "execution_count": 29,
   "metadata": {},
   "outputs": [
    {
     "data": {
      "text/html": [
       "<div>\n",
       "<style scoped>\n",
       "    .dataframe tbody tr th:only-of-type {\n",
       "        vertical-align: middle;\n",
       "    }\n",
       "\n",
       "    .dataframe tbody tr th {\n",
       "        vertical-align: top;\n",
       "    }\n",
       "\n",
       "    .dataframe thead th {\n",
       "        text-align: right;\n",
       "    }\n",
       "</style>\n",
       "<table border=\"1\" class=\"dataframe\">\n",
       "  <thead>\n",
       "    <tr style=\"text-align: right;\">\n",
       "      <th></th>\n",
       "      <th>geometry</th>\n",
       "      <th>change_detection</th>\n",
       "    </tr>\n",
       "  </thead>\n",
       "  <tbody>\n",
       "    <tr>\n",
       "      <th>0</th>\n",
       "      <td>POLYGON ((240680.000 6162180.000, 240680.000 6...</td>\n",
       "      <td>1</td>\n",
       "    </tr>\n",
       "    <tr>\n",
       "      <th>1</th>\n",
       "      <td>POLYGON ((241880.000 6162180.000, 241880.000 6...</td>\n",
       "      <td>2</td>\n",
       "    </tr>\n",
       "    <tr>\n",
       "      <th>2</th>\n",
       "      <td>POLYGON ((242360.000 6162180.000, 242360.000 6...</td>\n",
       "      <td>1</td>\n",
       "    </tr>\n",
       "    <tr>\n",
       "      <th>3</th>\n",
       "      <td>POLYGON ((242500.000 6162180.000, 242500.000 6...</td>\n",
       "      <td>2</td>\n",
       "    </tr>\n",
       "    <tr>\n",
       "      <th>4</th>\n",
       "      <td>POLYGON ((242860.000 6162180.000, 242860.000 6...</td>\n",
       "      <td>2</td>\n",
       "    </tr>\n",
       "    <tr>\n",
       "      <th>5</th>\n",
       "      <td>POLYGON ((243320.000 6162180.000, 243320.000 6...</td>\n",
       "      <td>1</td>\n",
       "    </tr>\n",
       "    <tr>\n",
       "      <th>6</th>\n",
       "      <td>POLYGON ((243360.000 6162180.000, 243360.000 6...</td>\n",
       "      <td>1</td>\n",
       "    </tr>\n",
       "    <tr>\n",
       "      <th>7</th>\n",
       "      <td>POLYGON ((246120.000 6162180.000, 246120.000 6...</td>\n",
       "      <td>1</td>\n",
       "    </tr>\n",
       "    <tr>\n",
       "      <th>8</th>\n",
       "      <td>POLYGON ((247560.000 6162180.000, 247560.000 6...</td>\n",
       "      <td>1</td>\n",
       "    </tr>\n",
       "    <tr>\n",
       "      <th>9</th>\n",
       "      <td>POLYGON ((247780.000 6162180.000, 247780.000 6...</td>\n",
       "      <td>1</td>\n",
       "    </tr>\n",
       "  </tbody>\n",
       "</table>\n",
       "</div>"
      ],
      "text/plain": [
       "                                            geometry  change_detection\n",
       "0  POLYGON ((240680.000 6162180.000, 240680.000 6...                 1\n",
       "1  POLYGON ((241880.000 6162180.000, 241880.000 6...                 2\n",
       "2  POLYGON ((242360.000 6162180.000, 242360.000 6...                 1\n",
       "3  POLYGON ((242500.000 6162180.000, 242500.000 6...                 2\n",
       "4  POLYGON ((242860.000 6162180.000, 242860.000 6...                 2\n",
       "5  POLYGON ((243320.000 6162180.000, 243320.000 6...                 1\n",
       "6  POLYGON ((243360.000 6162180.000, 243360.000 6...                 1\n",
       "7  POLYGON ((246120.000 6162180.000, 246120.000 6...                 1\n",
       "8  POLYGON ((247560.000 6162180.000, 247560.000 6...                 1\n",
       "9  POLYGON ((247780.000 6162180.000, 247780.000 6...                 1"
      ]
     },
     "execution_count": 29,
     "metadata": {},
     "output_type": "execute_result"
    }
   ],
   "source": [
    "change_detection_gp.head(10)"
   ]
  },
  {
   "cell_type": "markdown",
   "metadata": {},
   "source": [
    "### MetaData..."
   ]
  },
  {
   "cell_type": "code",
   "execution_count": null,
   "metadata": {},
   "outputs": [],
   "source": []
  },
  {
   "cell_type": "code",
   "execution_count": null,
   "metadata": {},
   "outputs": [],
   "source": []
  },
  {
   "cell_type": "code",
   "execution_count": null,
   "metadata": {},
   "outputs": [],
   "source": []
  },
  {
   "cell_type": "code",
   "execution_count": null,
   "metadata": {},
   "outputs": [],
   "source": []
  },
  {
   "cell_type": "markdown",
   "metadata": {},
   "source": [
    "### License"
   ]
  },
  {
   "cell_type": "markdown",
   "metadata": {},
   "source": [
    "This work is licenced under a [Attribution-ShareAlike 4.0 International License (CC BY-SA 4.0)](http://creativecommons.org/licenses/by-sa/4.0/) \n",
    "\n",
    "YOU ARE FREE TO:\n",
    "\n",
    "* Share - copy and redistribute the material in any medium or format.\n",
    "* Adapt - remix, transform, and built upon the material for any purpose, even commercially.\n",
    "\n",
    "UNDER THE FOLLOWING TERMS:\n",
    "\n",
    "* Attribution - You must give appropriate credit, provide a link to the license, and indicate if changes were made. You may do so in any reasonable manner, but not in any way that suggests the licensor endorses you or your use.\n",
    "* ShareAlike - If you remix, transform, or build upon the material, you must distribute your contributions under the same license as the original."
   ]
  },
  {
   "cell_type": "code",
   "execution_count": null,
   "metadata": {},
   "outputs": [],
   "source": []
  }
 ],
 "metadata": {
  "kernelspec": {
   "display_name": "env_ewf_satcen_03_03_02",
   "language": "python",
   "name": "env_ewf_satcen_03_03_02"
  },
  "language_info": {
   "codemirror_mode": {
    "name": "ipython",
    "version": 3
   },
   "file_extension": ".py",
   "mimetype": "text/x-python",
   "name": "python",
   "nbconvert_exporter": "python",
   "pygments_lexer": "ipython3",
   "version": "3.6.10"
  }
 },
 "nbformat": 4,
 "nbformat_minor": 2
}
