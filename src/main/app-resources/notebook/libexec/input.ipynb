{
 "cells": [
  {
   "cell_type": "markdown",
   "metadata": {},
   "source": [
    "##  Sentinel-2 burned area identification"
   ]
  },
  {
   "cell_type": "markdown",
   "metadata": {},
   "source": [
    "This notebook prepares the data transformation application: The outcome is a data transformation application that takes one input (or a set of inputs organized in an atomic unit) and generates the output.\n",
    "\n",
    "The application implements:\n",
    "\n",
    "* Calculation of NDVI in the two scenes (using band 8 and 4), (B8-B4)/(B8+B4)\n",
    "* Calculation of NDWI, in the two scenes (using band 8 and 11), (B8-B11)/(B8+B11)\n",
    "* If NDWI i2 - NDWI i1 > 0.18 and If NDVI i2 - NDVI i1 > 0.19 then burned pixels\n",
    "\n",
    "The outputs generated include:\n",
    "\n",
    "* COG RGB composite with bands 12, 11, 8A pre\n",
    "* COG RGB composite with bands 12, 11, 8A post \n",
    "* COG scene classification pre  \n",
    "* COG scene classification post \n",
    "* COG 8 bits with bitmask burned/not burned\n",
    "* Geojson with vectorization of bitmask burned/not burned"
   ]
  },
  {
   "cell_type": "code",
   "execution_count": null,
   "metadata": {
    "collapsed": true
   },
   "outputs": [],
   "source": [
    "service = dict([('title', 'Sentinel-2 burned area identification'),\n",
    "                ('abstract', 'This is a short description'),\n",
    "                ('id', 'ewf-satcen-03-03-02')])"
   ]
  },
  {
   "cell_type": "markdown",
   "metadata": {},
   "source": [
    "### Parameter Definition "
   ]
  },
  {
   "cell_type": "markdown",
   "metadata": {},
   "source": [
    "### Runtime parameter definition"
   ]
  },
  {
   "cell_type": "markdown",
   "metadata": {},
   "source": [
    "**Input reference**\n"
   ]
  },
  {
   "cell_type": "code",
   "execution_count": null,
   "metadata": {
    "collapsed": false
   },
   "outputs": [],
   "source": [
    "input_references = ['https://catalog.terradue.com/sentinel2/search?uid=S2A_MSIL2A_20191231T000241_N0213_R030_T56HKG_20191231T015159',\n",
    "                   'https://catalog.terradue.com/sentinel2/search?uid=S2A_MSIL2A_20191201T000241_N0213_R030_T56HKG_20191201T020044']"
   ]
  },
  {
   "cell_type": "code",
   "execution_count": null,
   "metadata": {},
   "outputs": [],
   "source": [
    "ndvi_threshold = dict([('identifier', 'ndvi_threshold'),\n",
    "                       ('value', '0.19'),\n",
    "                       ('title', 'NDVI difference threshold'),\n",
    "                       ('abstract', 'NDVI difference threshold'),\n",
    "                       ('maxOccurs', '1')]) "
   ]
  },
  {
   "cell_type": "code",
   "execution_count": null,
   "metadata": {},
   "outputs": [],
   "source": [
    "ndwi_threshold = dict([('identifier', 'ndwi_threshold'),\n",
    "                   ('value', '0.18'),\n",
    "                   ('title', 'NDWI difference threshold'),\n",
    "                   ('abstract', 'NDWI difference threshold'),\n",
    "                   ('maxOccurs', '1')])"
   ]
  },
  {
   "cell_type": "code",
   "execution_count": null,
   "metadata": {},
   "outputs": [],
   "source": [
    "wkt = dict([('id', 'aoi'),\n",
    "            ('value', 'POLYGON ((150.4704663611788 -34.65618387777952, 150.4704663611788 -34.95618387777952, 150.1704663611788 -34.95618387777952, 150.1704663611788 -34.65618387777952, 150.4704663611788 -34.65618387777952))'),\n",
    "            ('title', 'Area of interest'),\n",
    "            ('abstract', 'Area of interest in WKT or bounding box')])"
   ]
  },
  {
   "cell_type": "markdown",
   "metadata": {},
   "source": [
    "**Data path**\n",
    "\n",
    "This path defines where the data is staged-in. "
   ]
  },
  {
   "cell_type": "code",
   "execution_count": null,
   "metadata": {
    "collapsed": true
   },
   "outputs": [],
   "source": [
    "data_path = '/workspace/data'"
   ]
  },
  {
   "cell_type": "markdown",
   "metadata": {},
   "source": [
    "### Workflow"
   ]
  },
  {
   "cell_type": "markdown",
   "metadata": {},
   "source": [
    "#### Import the packages"
   ]
  },
  {
   "cell_type": "code",
   "execution_count": null,
   "metadata": {},
   "outputs": [],
   "source": [
    "import os\n",
    "import sys\n",
    "import cioppy\n",
    "import snappy\n",
    "from snappy import GPF\n",
    "ciop = cioppy.Cioppy()\n",
    "from snappy import jpy\n",
    "from snappy import ProductIO\n",
    "from datetime import datetime\n",
    "\n",
    "import gdal\n",
    "import geopandas as gp\n",
    "import numpy as np\n",
    "import datetime\n",
    "\n",
    "sys.path.append(os.getcwd())\n",
    "sys.path.append('/application/notebook/libexec/') \n",
    "from helpers import *\n",
    "\n",
    "#os.environ['GDAL_DATA'] = '/opt/anaconda/envs/env_ewf_satcen_03_03_02/share/gdal'\n",
    "#os.environ['PROJ_LIB'] = '/opt/anaconda/envs/env_ewf_satcen_03_03_02/share/proj'\n",
    "import warnings\n",
    "warnings.filterwarnings('ignore')\n",
    "\n",
    "gdal.UseExceptions() "
   ]
  },
  {
   "cell_type": "code",
   "execution_count": null,
   "metadata": {},
   "outputs": [],
   "source": [
    "products = get_metadata(input_references, data_path)"
   ]
  },
  {
   "cell_type": "code",
   "execution_count": null,
   "metadata": {},
   "outputs": [],
   "source": [
    "group_analysis(products)"
   ]
  },
  {
   "cell_type": "code",
   "execution_count": null,
   "metadata": {},
   "outputs": [],
   "source": [
    "products"
   ]
  },
  {
   "cell_type": "code",
   "execution_count": null,
   "metadata": {},
   "outputs": [],
   "source": [
    "req_bands = ['B4','B8','B8A', 'B11','B12', 'quality_scene_classification' ]"
   ]
  },
  {
   "cell_type": "code",
   "execution_count": null,
   "metadata": {},
   "outputs": [],
   "source": [
    "#if more than one post or pre products==> use slice assembly ==>use new mosaics as input to the next steps"
   ]
  },
  {
   "cell_type": "code",
   "execution_count": null,
   "metadata": {},
   "outputs": [],
   "source": [
    "output_files = []\n",
    "for index, item in enumerate(['Pst','Pre']):\n",
    "    if(products[products['ordinal_type'] == item].identifier.count()>1):\n",
    "        product = mosaic_inputs(products[products['ordinal_type'] == item].reset_index(drop=True))\n",
    "    else:\n",
    "        local_pathx=products[products['ordinal_type'] == item].iloc[0]['local_path']\n",
    "        s2prd = \"%s/MTD_MSIL2A.xml\" %local_pathx \n",
    "        product = snappy.ProductIO.readProduct(s2prd)\n",
    "    \n",
    "    output_name = '%s_%s.tif'%(item,product.getName())\n",
    "    #print(output_name)\n",
    "    product = resample2ref_band(product,'B4')\n",
    "    product = subset_to_aoi_reduce_bands(product,wkt['value'],req_bands)\n",
    "    ProductIO.writeProduct(product, 'S2_{}_tmp.tif'.format(item), 'GeoTIFF-BigTIFF')\n",
    "    output_files.append('RGB_%s'.format(output_name))\n",
    "    snap_rgb(product,['B12','B11','B8A'],'RGB_{}'.format(output_name))\n",
    "    output_files.append('MASK_%s'%output_name)\n",
    "    snap_mask(product,'MASK_%s'%output_name)\n",
    "print(output_files)"
   ]
  },
  {
   "cell_type": "markdown",
   "metadata": {},
   "source": [
    "### NDVI & NDWI computation "
   ]
  },
  {
   "cell_type": "code",
   "execution_count": null,
   "metadata": {},
   "outputs": [],
   "source": [
    "ds = gdal.Open('S2_Pre_tmp.tif')\n",
    "    \n",
    "pre_b04 = ds.GetRasterBand(1).ReadAsArray()\n",
    "pre_b08 = ds.GetRasterBand(2).ReadAsArray()\n",
    "pre_b11 = ds.GetRasterBand(4).ReadAsArray()\n",
    "pre_scl = ds.GetRasterBand(6).ReadAsArray()\n",
    "\n",
    "ds = None\n",
    "\n",
    "os.remove('S2_Pre_tmp.tif')"
   ]
  },
  {
   "cell_type": "code",
   "execution_count": null,
   "metadata": {},
   "outputs": [],
   "source": [
    "ds = gdal.Open('S2_Pst_tmp.tif')\n",
    "    \n",
    "post_b04 = ds.GetRasterBand(1).ReadAsArray()\n",
    "post_b08 = ds.GetRasterBand(2).ReadAsArray()\n",
    "post_b11 = ds.GetRasterBand(4).ReadAsArray()\n",
    "post_scl = ds.GetRasterBand(6).ReadAsArray()\n",
    "\n",
    "width = ds.RasterXSize\n",
    "height = ds.RasterYSize\n",
    "\n",
    "input_geotransform = ds.GetGeoTransform()\n",
    "input_georef = ds.GetProjectionRef()\n",
    "#print(input_georef)\n",
    "proj = osr.SpatialReference(wkt=ds.GetProjection())\n",
    "espg = proj.GetAttrValue('AUTHORITY',1)\n",
    "print(espg) \n",
    "ds = None\n",
    "\n",
    "os.remove('S2_Pst_tmp.tif')"
   ]
  },
  {
   "cell_type": "code",
   "execution_count": null,
   "metadata": {},
   "outputs": [],
   "source": [
    "gain = 10000"
   ]
  },
  {
   "cell_type": "markdown",
   "metadata": {},
   "source": [
    " ### NDWI with NIR (8) and SWIR (11)"
   ]
  },
  {
   "cell_type": "code",
   "execution_count": null,
   "metadata": {},
   "outputs": [],
   "source": [
    "pre_ndwi2 = (pre_b08 / gain - pre_b11 / gain) / (pre_b08/ gain  + pre_b11 / gain)\n",
    "post_ndwi2 = (post_b08 / gain - post_b11 / gain) / (post_b08/ gain  + post_b11 / gain)\n",
    "\n",
    "pre_b11 = None\n",
    "post_b11 = None"
   ]
  },
  {
   "cell_type": "markdown",
   "metadata": {},
   "source": [
    "### NDVI with NIR (8) and Red (4)"
   ]
  },
  {
   "cell_type": "code",
   "execution_count": null,
   "metadata": {},
   "outputs": [],
   "source": [
    "pre_ndvi = (pre_b08 / gain - pre_b04 / gain) / (pre_b08 / gain  + pre_b04 / gain)\n",
    "post_ndvi = (post_b08 / gain - post_b04 / gain) / (post_b08 / gain  + post_b04 / gain)"
   ]
  },
  {
   "cell_type": "code",
   "execution_count": null,
   "metadata": {},
   "outputs": [],
   "source": [
    "pre_b04 = None\n",
    "post_b04 = None\n",
    "\n",
    "pre_b08 = None\n",
    "post_b08 = None"
   ]
  },
  {
   "cell_type": "raw",
   "metadata": {},
   "source": [
    "If NDWI i2 - NDWI i1 > 0.18 and If NDVI i2 - NDVI i1 > 0.19 then burned pixels"
   ]
  },
  {
   "cell_type": "code",
   "execution_count": null,
   "metadata": {},
   "outputs": [],
   "source": [
    "conditions = (((post_ndwi2 - pre_ndwi2)  > float(ndwi_threshold['value'])) & ((post_ndvi - pre_ndvi) > float(ndvi_threshold['value'])) & (pre_scl == 4) | (post_scl == 4)) "
   ]
  },
  {
   "cell_type": "code",
   "execution_count": null,
   "metadata": {},
   "outputs": [],
   "source": [
    "burned = np.zeros((height, width), dtype=np.uint8)"
   ]
  },
  {
   "cell_type": "code",
   "execution_count": null,
   "metadata": {},
   "outputs": [],
   "source": [
    "burned[conditions] = 1"
   ]
  },
  {
   "cell_type": "code",
   "execution_count": null,
   "metadata": {},
   "outputs": [],
   "source": [
    "pre_ndwi2 = None\n",
    "post_ndwi2 = None\n",
    "\n",
    "pre_ndvi = None\n",
    "post_ndvi = None"
   ]
  },
  {
   "cell_type": "markdown",
   "metadata": {},
   "source": [
    "### Exclude according to scene classifications:"
   ]
  },
  {
   "cell_type": "markdown",
   "metadata": {},
   "source": [
    "where noData put burned=2 if burn then put burned=1 else burned=0"
   ]
  },
  {
   "cell_type": "code",
   "execution_count": null,
   "metadata": {},
   "outputs": [],
   "source": [
    "burned[np.where((pre_scl == 0) | (post_scl == 0) | (pre_scl == 1) | (post_scl == 1) | (pre_scl == 5) | (post_scl == 5) | (pre_scl == 6) | (post_scl == 6) | (pre_scl == 7) | (post_scl == 7) | (pre_scl == 8) | (post_scl == 8) | (pre_scl == 9) | (post_scl == 9))] = 2"
   ]
  },
  {
   "cell_type": "markdown",
   "metadata": {},
   "source": [
    "Write"
   ]
  },
  {
   "cell_type": "code",
   "execution_count": null,
   "metadata": {},
   "outputs": [],
   "source": [
    "start_date=(products[products['ordinal_type'] == 'Pre'].reset_index(drop=True)).iloc[0].startdate[0:10]"
   ]
  },
  {
   "cell_type": "code",
   "execution_count": null,
   "metadata": {},
   "outputs": [],
   "source": [
    "end_date=(products[products['ordinal_type'] == 'Pst'].reset_index(drop=True)).iloc[0].enddate[0:10]"
   ]
  },
  {
   "cell_type": "code",
   "execution_count": null,
   "metadata": {},
   "outputs": [],
   "source": [
    "#Requested file name : 'Burned_Area_S2_{MasterId}_{SlaveId}.tif\n",
    "if products[products['ordinal_type'] == 'Pre'].identifier.count() == 1 and products[products['ordinal_type'] == 'Pst'].identifier.count() == 1:\n",
    "    output_name_Burned_Area = 'Burned_Area_S2_%s_%s.tif'%(products[products['ordinal_type'] == 'Pst'].iloc[0]['identifier'],products[products['ordinal_type'] == 'Pre'].iloc[0]['identifier'])\n",
    "else:\n",
    "    #if inputs are mosaiced \n",
    "    output_name_Burned_Area = 'Burned_Area_S2_%s_%s.tif'%(end_date,start_date)"
   ]
  },
  {
   "cell_type": "code",
   "execution_count": null,
   "metadata": {},
   "outputs": [],
   "source": [
    "write_tif(burned, output_name_Burned_Area, width, height, input_geotransform, input_georef)\n",
    "output_files.append(output_name_Burned_Area)"
   ]
  },
  {
   "cell_type": "code",
   "execution_count": null,
   "metadata": {},
   "outputs": [],
   "source": [
    "change_detection_gp = polygonize(output_name_Burned_Area, 1,espg )"
   ]
  },
  {
   "cell_type": "code",
   "execution_count": null,
   "metadata": {},
   "outputs": [],
   "source": [
    "output_files.append('polygonized.json')"
   ]
  },
  {
   "cell_type": "markdown",
   "metadata": {},
   "source": [
    "#### if we replace {'init':'epsg:{}'.format(epsg)} with new recommended 'epsg:{}', the axis order changes"
   ]
  },
  {
   "cell_type": "code",
   "execution_count": null,
   "metadata": {},
   "outputs": [],
   "source": [
    "change_detection_gp.head(10)"
   ]
  },
  {
   "cell_type": "markdown",
   "metadata": {},
   "source": [
    "### Get the result WKT"
   ]
  },
  {
   "cell_type": "code",
   "execution_count": null,
   "metadata": {},
   "outputs": [],
   "source": [
    "src = gdal.Open(output_name_Burned_Area)\n",
    "ulx, xres, xskew, uly, yskew, yres  = src.GetGeoTransform()\n",
    "\n",
    "max_x = ulx + (src.RasterXSize * xres)\n",
    "min_y = uly + (src.RasterYSize * yres)\n",
    "min_x = ulx \n",
    "max_y = uly\n",
    "\n",
    "min_x, min_y, max_x, max_y"
   ]
  },
  {
   "cell_type": "code",
   "execution_count": null,
   "metadata": {},
   "outputs": [],
   "source": [
    "source = osr.SpatialReference()\n",
    "source.ImportFromWkt(src.GetProjection())\n",
    "\n",
    "target = osr.SpatialReference()\n",
    "target.ImportFromEPSG(4326)\n",
    "\n",
    "transform = osr.CoordinateTransformation(source, target)\n",
    "\n",
    "result_wkt = box(transform.TransformPoint(min_x, min_y)[0],\n",
    "        transform.TransformPoint(min_x, min_y)[1],\n",
    "        transform.TransformPoint(max_x, max_y)[0],\n",
    "        transform.TransformPoint(max_x, max_y)[1]).wkt"
   ]
  },
  {
   "cell_type": "code",
   "execution_count": null,
   "metadata": {},
   "outputs": [],
   "source": [
    "result_wkt"
   ]
  },
  {
   "cell_type": "markdown",
   "metadata": {},
   "source": [
    "### Create the properties file"
   ]
  },
  {
   "cell_type": "code",
   "execution_count": null,
   "metadata": {},
   "outputs": [],
   "source": [
    "from datetime import datetime"
   ]
  },
  {
   "cell_type": "code",
   "execution_count": null,
   "metadata": {},
   "outputs": [],
   "source": [
    "\n",
    "for index , item in enumerate(output_files):\n",
    "    input_id='\\n'\n",
    "    if 'RGB' in item:\n",
    "        title = 'Sentinel-2 RGB %s-event from Bands: B11, B12, B8A'%item[4:7]\n",
    "        \n",
    "        for index , row in products[products['ordinal_type'] == item[4:7]].iterrows():\n",
    "            input_id=input_id+'Input Product %d = %s\\n' % (index,row.identifier)\n",
    "            \n",
    "    if 'MASK' in item:\n",
    "        title = 'Sentinel-2 Scene Classification %s-event'%item[5:8]\n",
    "        \n",
    "        for index , row in products[products['ordinal_type'] == item[5:8]].iterrows():\n",
    "            input_id=input_id+'Input Product %d = %s\\n' % (index,row.identifier)\n",
    "\n",
    "    if 'Burned_Area_S2' in item:\n",
    "        title = 'Sentinel-2 burned area identification'\n",
    "        \n",
    "        for index , row in products.iterrows():\n",
    "            input_id=input_id+'Input Product %d = %s\\n' % (index,row.identifier)\n",
    "    \n",
    "    if 'polygonized' in item:\n",
    "        title = 'Geojson with vectorization of bitmask burned=1/not burned=0/unkown=2'\n",
    "        \n",
    "        for index , row in products.iterrows():\n",
    "            input_id=input_id+'Input Product %d = %s\\n' % (index,row.identifier)\n",
    "    \n",
    "    with open('%s.properties'%item, 'wb') as file:\n",
    "        file.write(('title = %s\\n'%(title)).encode())\n",
    "        if 'Pre-event' in title : \n",
    "            file.write(('date = %s\\n' % pd.to_datetime(start_date).isoformat()).encode())\n",
    "        elif 'Pst-event' in title :\n",
    "            file.write(('date = %s\\n' % pd.to_datetime(end_date).isoformat()).encode())\n",
    "        else:\n",
    "            file.write(('startdate = %s\\n' % pd.to_datetime(start_date).isoformat()).encode())\n",
    "            file.write(('enddate = %s\\n' % pd.to_datetime(end_date).isoformat()).encode())\n",
    "            \n",
    "        file.write(('geometry = %s\\n' % (result_wkt)).encode())\n",
    "        file.write(input_id.encode())\n",
    "        file.write(('Production Date=%s' % (datetime.now().strftime('%Y-%m-%dT%H:%M:%SZ'))).encode()) \n",
    "    \n",
    "        \n",
    "        "
   ]
  },
  {
   "cell_type": "markdown",
   "metadata": {},
   "source": [
    "### License"
   ]
  },
  {
   "cell_type": "markdown",
   "metadata": {},
   "source": [
    "This work is licenced under a [Attribution-ShareAlike 4.0 International License (CC BY-SA 4.0)](http://creativecommons.org/licenses/by-sa/4.0/) \n",
    "\n",
    "YOU ARE FREE TO:\n",
    "\n",
    "* Share - copy and redistribute the material in any medium or format.\n",
    "* Adapt - remix, transform, and built upon the material for any purpose, even commercially.\n",
    "\n",
    "UNDER THE FOLLOWING TERMS:\n",
    "\n",
    "* Attribution - You must give appropriate credit, provide a link to the license, and indicate if changes were made. You may do so in any reasonable manner, but not in any way that suggests the licensor endorses you or your use.\n",
    "* ShareAlike - If you remix, transform, or build upon the material, you must distribute your contributions under the same license as the original."
   ]
  },
  {
   "cell_type": "code",
   "execution_count": null,
   "metadata": {},
   "outputs": [],
   "source": []
  }
 ],
 "metadata": {
  "kernelspec": {
   "display_name": "Python 2",
   "language": "python",
   "name": "python2"
  },
  "language_info": {
   "codemirror_mode": {
    "name": "ipython",
    "version": 2
   },
   "file_extension": ".py",
   "mimetype": "text/x-python",
   "name": "python",
   "nbconvert_exporter": "python",
   "pygments_lexer": "ipython2",
   "version": "2.7.12"
  }
 },
 "nbformat": 4,
 "nbformat_minor": 2
}
